{
 "cells": [
  {
   "cell_type": "markdown",
   "metadata": {},
   "source": [
    "## Relatório dinâmico - Construção de Horário de aulas com atendimento de restrições e preferências."
   ]
  },
  {
   "cell_type": "markdown",
   "metadata": {},
   "source": [
    "Biblioteca utilizada para ler e manipular arquivos tipo xls, outra opção de biblioteca -> Pandas."
   ]
  },
  {
   "cell_type": "code",
   "execution_count": null,
   "metadata": {},
   "outputs": [],
   "source": [
    "#coding: utf-8\n",
    "import xlrd #biblioteca para ler arquivo xls"
   ]
  },
  {
   "cell_type": "markdown",
   "metadata": {},
   "source": [
    "Função que retorna um valor para cada dia, a partir de uma string com seu nome"
   ]
  },
  {
   "cell_type": "code",
   "execution_count": null,
   "metadata": {},
   "outputs": [],
   "source": [
    "def getDia(dia):\n",
    "    if(dia == \"Segunda\"): #recebe a string da lista dia para transformar\n",
    "        dia = 0\n",
    "    elif(dia == \"Terça\"):\n",
    "        dia = 1\n",
    "    elif(dia == \"Quarta\"):\n",
    "        dia = 2\n",
    "    elif(dia == \"Quinta\"):\n",
    "        dia = 3\n",
    "    elif(dia == \"Sexta\"):\n",
    "        dia = 4\n",
    "    else:\n",
    "        dia = -10\n",
    "    return dia"
   ]
  },
  {
   "cell_type": "markdown",
   "metadata": {},
   "source": [
    "Função que busca a configuração dos horários na planilha e retorna valores de 0 a n para cada horário da planilha "
   ]
  },
  {
   "cell_type": "code",
   "execution_count": null,
   "metadata": {},
   "outputs": [],
   "source": [
    "def getHorario(horario, Configuracoes):\n",
    "    for i in range(len(Configuracoes)):\n",
    "        if(horario == Configuracoes[i]):\n",
    "            return i\n",
    "    return -10"
   ]
  },
  {
   "cell_type": "markdown",
   "metadata": {},
   "source": [
    "Classe horário, que possui os atributos \"dia\", \"horário\" e \"cor\", classe que verifica a validade\n",
    "dos dados que estão entrando e atribui uma união de strings para determinar a cor"
   ]
  },
  {
   "cell_type": "code",
   "execution_count": null,
   "metadata": {},
   "outputs": [],
   "source": [
    "class Horario:\n",
    "    def __init__(self, dia, horario):\n",
    "        self.dia = dia\n",
    "        self.horario = horario\n",
    "        self.cor = str(dia) + \"/\" + str(horario) #simulacao de uma tupla para representar a cor.\n",
    "\n",
    "    def __setattr__(self, name, value):\n",
    "        if(name == \"cor\"):\n",
    "            super().__setattr__(name, value)\n",
    "            aux = value.split(\"/\")\n",
    "            self.dia = int(aux[0])\n",
    "            self.horario = int(aux[1])\n",
    "        else:\n",
    "            super().__setattr__(name, value)\n",
    "\n",
    "    def add(self, horarioMax):\n",
    "        if(self.dia in range(4)):\n",
    "                self.dia += 1\n",
    "            #elif(self.horario in range((horarioMax)-1)):\n",
    "            #\tself.dia = 0\n",
    "            #\tself.horario += 1\n",
    "        else:\n",
    "            self.dia = 0\n",
    "            self.horario += 1\n",
    "            self.cor = str(self.dia) + \"/\" + str(self.horario)"
   ]
  },
  {
   "cell_type": "markdown",
   "metadata": {},
   "source": [
    "Classe Vertice, esta inicializa um vértice do grafo, possui um iD, sua cor obtida da classe Horario\n",
    "e a sua lista de adjacência. É a classe mais genérica utilizada para instanciação de 'vértices de \n",
    "restrição', utilizados na parte de restrições do projeto"
   ]
  },
  {
   "cell_type": "code",
   "execution_count": null,
   "metadata": {},
   "outputs": [],
   "source": [
    "class Vertice:\n",
    "    idVertice = 0\n",
    "    def __init__(self):\n",
    "        self.saturacao = 0\n",
    "        self.horario = Horario(-1, -1)\n",
    "        self.adjacencia = []\n",
    "        self.idVertice = Vertice.idVertice\n",
    "        Vertice.idVertice += 1"
   ]
  },
  {
   "cell_type": "markdown",
   "metadata": {},
   "source": [
    "Classe Professor, feita para a instância dos professores no problema, possuem um iD do professor e\n",
    "seu nome. Além disso, há também duas Listas que são as restrições e as preferências do docente."
   ]
  },
  {
   "cell_type": "code",
   "execution_count": null,
   "metadata": {},
   "outputs": [],
   "source": [
    "class Professor:\n",
    "    idProfessor = 0\n",
    "    def __init__(self, nome):\n",
    "        self.nome = nome\n",
    "        self.idProfessor = Professor.idProfessor\n",
    "        Professor.idProfessor += 1 #cada professor recebe um id iniciando de 0 até n professores, sao n-1 ids\n",
    "        self.restricao = [] #lista de informacoes vindo das tabelas\n",
    "        self.preferencia = [] #lista de informacoes vindo das tabelas"
   ]
  },
  {
   "cell_type": "markdown",
   "metadata": {},
   "source": [
    "Classe Matéria, feita para a instância das matérias da escola, possuem um iD para identificação\n",
    "e seu nome."
   ]
  },
  {
   "cell_type": "code",
   "execution_count": null,
   "metadata": {},
   "outputs": [],
   "source": [
    "class Materia:\n",
    "    idMateria = 0\n",
    "    def __init__(self, nome):\n",
    "        self.nome = nome\n",
    "        self.idMateria = Materia.idMateria\n",
    "        Materia.idMateria += 1"
   ]
  },
  {
   "cell_type": "markdown",
   "metadata": {},
   "source": [
    "Classe Turma, feita para a instância das turmas da escola, possuem um iD para identificação, além\n",
    "do nome da turma e de uma lista com suas restrições."
   ]
  },
  {
   "cell_type": "code",
   "execution_count": null,
   "metadata": {},
   "outputs": [],
   "source": [
    "class Turma:\n",
    "    idTurma = 0\n",
    "    def __init__(self, nome):\n",
    "        self.nome = nome\n",
    "        self.idTurma = Turma.idTurma\n",
    "        Turma.idTurma += 1\n",
    "        self.restricao = [] #lista de informacoes vindo das tabelas"
   ]
  },
  {
   "cell_type": "markdown",
   "metadata": {},
   "source": [
    "Classe MTP, rebece os atributos da classe pai Vertice, em que se instanciam vértices que possuem as informações\n",
    "de Matéria, Turma e Professor (através de seus iDs), são basicamentes vértices que juntam as características\n",
    "das 3 classes acima citadas"
   ]
  },
  {
   "cell_type": "code",
   "execution_count": null,
   "metadata": {},
   "outputs": [],
   "source": [
    "class MTP(Vertice):\n",
    "\n",
    "    # Método de inicialização da MTP (Materia, Turma, Professor)\n",
    "\n",
    "    def __init__(self, idMateria, idTurma, idProfessor):\n",
    "        self.idMateria = idMateria\n",
    "        self.idTurma = idTurma\n",
    "        self.idProfessor = idProfessor\n",
    "        self.geminada = False \n",
    "        super().__init__() #iniciando a classe pai\n",
    "\n",
    "    # Método feito para conceder uma cor aos vértices com base em suas adjacências \n",
    "\n",
    "    def recebeCor(self, vertice, cor):\n",
    "        for a in vertice.adjacencia:\n",
    "            if(self.Vertices[a].horario.cor == cor):\n",
    "                return False\n",
    "        vertice.horario.cor = cor\n",
    "        return True"
   ]
  },
  {
   "cell_type": "markdown",
   "metadata": {},
   "source": [
    "class Escola instância todas as listas e métodos filhos"
   ]
  },
  {
   "cell_type": "code",
   "execution_count": 2,
   "metadata": {},
   "outputs": [],
   "source": [
    "class Escola:\n",
    "\n",
    "    def __init__(self, escola):\n",
    "        self.Vertices = []\t\t\t#Lista contendo todos os vértices, Genéricos ou MTPs\n",
    "        self.Configuracoes = []\t\t#Lista contendo todos os horários da escola\n",
    "        self.Materias = []\t\t\t#Lista contendo todas as matérias cadastradas\n",
    "        self.Turmas = []\t\t\t#Lista contendo todas as turmas cadastradas\n",
    "        self.Professores = []\t\t#Lista contendo todos os profesores cadastrados\n",
    "        self.MTPs = []\t\t\t\t#Lista contendo todas as referências de MTPs contidas na lista Vertices\n",
    "        self.Preferencias = []\t\t#Lista contendo as preferências não atendidas\n",
    "        self.numPrefs = 0\t\t\t#Variável que controla a quantidade total de preferências de professores\n",
    "        self.numPrefAtendidas = 0\t#Variável que controla a quantidade total de preferências atendidas\n",
    "        self.leDoArquivo(escola)\n",
    "        self.criaListaAdj()\n",
    "        self.addRestricao()\n",
    "        self.addPreferencias()\n",
    "        self.colorir()\n",
    "        self.showValues()"
   ]
  },
  {
   "cell_type": "markdown",
   "metadata": {},
   "source": [
    "Método para saída de dados padronizada"
   ]
  },
  {
   "cell_type": "code",
   "execution_count": null,
   "metadata": {},
   "outputs": [],
   "source": [
    "def showValues(self):\n",
    "\t\tprint(\"Quantidade de cores:\", self.contaCor())\n",
    "\t\tprint(\"Vértices não coloridos:\", self.semCor)\n",
    "\t\tprint(\"Preferências atendidas sobre o total de preferências:\", self.numPrefAtendidas, \"/\", self.numPrefs)\n",
    "\t\tfor p in self.Professores:\n",
    "\t\t\tif(len(p.preferencia) > 0):\n",
    "\t\t\t\tprint(p.nome, \":\", len(p.preferencia))\n",
    "\t\tprint(\"\")"
   ]
  },
  {
   "cell_type": "markdown",
   "metadata": {},
   "source": [
    "O seguinte método cria as listas de adjacências de cada vértice(MTP), verificando com 2\n",
    "laços de repetição se o seu par possui alguma turma em comum ou algum professor em comum\n",
    "fazendo com que estes não possam ser pintados com a mesma cor, adicionando-os em suas \n",
    "respectivas listas de adjacências "
   ]
  },
  {
   "cell_type": "code",
   "execution_count": null,
   "metadata": {},
   "outputs": [],
   "source": [
    "def contaCor(self):\n",
    "        cores = []\n",
    "        for v in self.MTPs:\n",
    "            if(self.Vertices[v].horario.cor not in cores):\n",
    "                cores.append(self.Vertices[v].horario.cor)\n",
    "        return len(cores)"
   ]
  },
  {
   "cell_type": "code",
   "execution_count": null,
   "metadata": {},
   "outputs": [],
   "source": [
    "def criaListaAdj(self):\n",
    "    for idV1 in self.MTPs:\n",
    "        for idV2 in self.MTPs:\n",
    "            if(idV1 != idV2):\n",
    "                if(self.Vertices[idV1].idTurma == self.Vertices[idV2].idTurma or self.Vertices[idV1].idProfessor == self.Vertices[idV2].idProfessor):\n",
    "                    self.Vertices[idV1].adjacencia.append(idV2)"
   ]
  },
  {
   "cell_type": "markdown",
   "metadata": {},
   "source": [
    "O método a seguir adiciona ás listas de adjacencias dos vértices(MTPs) as restrições que\n",
    "foram obtidas através do arquivo, fazendo com que os vértices tenham cores diferentes dos\n",
    "casos onde essas restrições ocorrem"
   ]
  },
  {
   "cell_type": "code",
   "execution_count": null,
   "metadata": {},
   "outputs": [],
   "source": [
    "def addRestricao(self):\n",
    "        for idV in self.MTPs:\n",
    "            #print(\"MTP\", \"Materia: \", self.Materias[self.Vertices[idV].idMateria].nome, \"Turma: \", self.Turmas[self.Vertices[idV].idTurma].nome, \"Professor: \", self.Professores[self.Vertices[idV].idProfessor].nome)\n",
    "            for t in self.Turmas:\n",
    "                if(self.Vertices[idV].idTurma == t.idTurma):\n",
    "                    #print(\"Turma: \", t.nome)\n",
    "                    for restricao in t.restricao:\n",
    "                        #print(\"Cor: \", self.Vertices[restricao].horario.cor)\n",
    "                        self.Vertices[idV].adjacencia.append(self.Vertices[restricao].idVertice)\n",
    "            for p in self.Professores:\n",
    "                #print(\"Professor: \", p.nome)\n",
    "                if(self.Vertices[idV].idProfessor == p.idProfessor):\n",
    "                    for restricao in p.restricao:\n",
    "                        #print(\"Cor: \", self.Vertices[restricao].horario.cor)\n",
    "                        self.Vertices[idV].adjacencia.append(self.Vertices[restricao].idVertice)"
   ]
  },
  {
   "cell_type": "markdown",
   "metadata": {},
   "source": [
    "Nesse método, todas as preferências, de todos os professores, são alocadas\n",
    "Caso uma preferência seja possível, o vértice MTP correspondente será pintado\n",
    "Caso não seja, ela é alocada numa lista de preferências não atendidas"
   ]
  },
  {
   "cell_type": "code",
   "execution_count": null,
   "metadata": {},
   "outputs": [],
   "source": [
    "def addPreferencias(self):\n",
    "        numProfs = len(self.Professores)\n",
    "        # Enquanto houverem preferências passíveis de resolução\n",
    "        while(self.numPrefAtendidas + len(self.Preferencias) < self.numPrefs):\n",
    "            lastProfId = -1\n",
    "            # Busca nos vértices MTPs\n",
    "            for v in self.MTPs:\n",
    "                # Se o vértice não tiver cor\n",
    "                if(self.Vertices[v].horario.cor == \"-1/-1\"):\n",
    "                    # Se o professor atual não foi o último atendido\n",
    "                    if(self.Vertices[v].idProfessor != lastProfId):\n",
    "                        # Procura em suas preferências alguma que pode encaixar com o vértice\n",
    "                        for pref in self.Professores[self.Vertices[v].idProfessor].preferencia:\n",
    "                            # Caso consiga encaixar\n",
    "                            if(self.recebeCor(self.Vertices[v], pref.cor)):\n",
    "                                # Atualiza os valores para controle\n",
    "                                self.numPrefAtendidas += 1\n",
    "                                lastProfId = self.Vertices[v].idProfessor\n",
    "                                if(pref in self.Preferencias):\n",
    "                                    self.Preferencias.remove(pref)\n",
    "                                self.Professores[self.Vertices[v].idProfessor].preferencia.remove(pref)\n",
    "                                break\n",
    "                            else:\n",
    "                                if(pref not in self.Preferencias):\n",
    "                                    self.Preferencias.append(pref)"
   ]
  },
  {
   "cell_type": "markdown",
   "metadata": {},
   "source": [
    "Esse método tentará todas as combinações de cores possíveis para um vértice\n",
    "parando apenas quando uma for aceita"
   ]
  },
  {
   "cell_type": "code",
   "execution_count": null,
   "metadata": {},
   "outputs": [],
   "source": [
    "def escolheCor(self, vertice):\n",
    "        #print(vertice.idVertice)\n",
    "        #print(vertice.horario.cor)\n",
    "        horario = Horario(0, 0)\n",
    "        maxHorario = len(self.Configuracoes)\n",
    "        while(not self.recebeCor(vertice, horario.cor)):\n",
    "            horario.add(maxHorario)\n",
    "        #print(vertice.horario.cor)\n",
    "        if(vertice.horario.cor != \"-1/-1\"):\n",
    "            return True\n",
    "        return False"
   ]
  },
  {
   "cell_type": "markdown",
   "metadata": {},
   "source": [
    "Em def colorir(self), estamos utilizando os conceitos de coloração do algoritmo DSatur, verificando grau dos vertices e grau de saturação"
   ]
  },
  {
   "cell_type": "code",
   "execution_count": null,
   "metadata": {},
   "outputs": [],
   "source": [
    "def colorir(self):\n",
    "        listNoColor = []\n",
    "        for v in self.MTPs:\n",
    "            #print(self.Vertices[v].horario.cor)\n",
    "            if(self.Vertices[v].horario.cor == \"-1/-1\"):\n",
    "                #print(\"Entrou\")\n",
    "                listNoColor.append(self.Vertices[v].idVertice)\n",
    "        while(len(listNoColor) > 0):\n",
    "            maxGrau = -1\n",
    "            maxSat = -1\n",
    "            index = -1\n",
    "            for v1 in listNoColor:\n",
    "                if(index == -1):\n",
    "                    index = v1\n",
    "                    maxGrau = len(self.Vertices[v1].adjacencia)\n",
    "                    maxSat = self.Vertices[v1].saturacao\n",
    "                elif(maxGrau < len(self.Vertices[v1].adjacencia)):\n",
    "                    index = v1\n",
    "                    maxGrau = len(self.Vertices[v1].adjacencia)\n",
    "                    maxSat = self.Vertices[v1].saturacao\n",
    "                elif(maxGrau == len(self.Vertices[v1].adjacencia) and maxSat < self.Vertices[v1].saturacao):\n",
    "                    index = v1\n",
    "                    maxGrau = len(self.Vertices[v1].adjacencia)\n",
    "                    maxSat = self.Vertices[v1].saturacao\n",
    "            self.escolheCor(self.Vertices[index])\n",
    "            listNoColor.remove(self.Vertices[index].idVertice)\n",
    "            for adj in self.Vertices[index].adjacencia:\n",
    "                self.Vertices[adj].saturacao += 1"
   ]
  },
  {
   "cell_type": "markdown",
   "metadata": {},
   "source": [
    "Todo o método a seguir foi feito para puxar os dados da planilha fornecida com os dados\n",
    "e possibilitar a manipulação e testes do problema através desses, a biblioteca utilizada\n",
    "para isso foi a xlrd, os dados das planilhas são incluidos em suas respectivas listas para manipulação"
   ]
  },
  {
   "cell_type": "code",
   "execution_count": null,
   "metadata": {},
   "outputs": [],
   "source": [
    "def leDoArquivo(self, escola):\n",
    "\n",
    "    # Zera os ids\n",
    "\n",
    "    Vertice.idVertice = 0\n",
    "    MTP.idMTP = 0\n",
    "    Professor.idProfessor = 0\n",
    "    Turma.idTurma = 0\n",
    "    Professor.idProfessor = 0\n",
    "\n",
    "    # Abre o arquivo\n",
    "\n",
    "    wb = xlrd.open_workbook(escola) #instanciando wb com a biblioteca xlrd\n",
    "    #wb = workbook\n",
    "    # Abre a planilha 0, Dados\n",
    "    ws = wb.sheet_by_index(0) #instanciando ws para manipular as páginas do arquivo\n",
    "    #sheet_by_index(int) acessa a pág. pelo índice, sheet_by_name acessa pelo nome da pág.\n",
    "    for i in range(ws.nrows): #nrows argumento padrão da biblioteca number rows\n",
    "        # Ignora linha de cabeçalho\n",
    "        if i == 0:\n",
    "            continue\n",
    "        else:\n",
    "            materiaNome = ws.cell(i, 0).value #ws.cell(int row, int column) acessa uma célula do arquivo\n",
    "            turmaNome = str(ws.cell(i, 1).value)\n",
    "            professorNome = ws.cell(i, 2).value\n",
    "            qtd = ws.cell(i, 3).value\n",
    "\n",
    "            matId = 0\n",
    "            if(len(self.Materias) != 0):\n",
    "                existe = False\n",
    "                for materia in self.Materias:\n",
    "                    if(materiaNome == materia.nome):\n",
    "                        existe = True\n",
    "                        matId = materia.idMateria\n",
    "                if(not existe):\n",
    "                    materia = Materia(materiaNome)\n",
    "                    matId = materia.idMateria\n",
    "                    self.Materias.append(materia)\n",
    "            else:\n",
    "                self.Materias.append(Materia(materiaNome))\n",
    "\n",
    "            turmaId = 0\n",
    "            if(len(self.Turmas) != 0):\n",
    "                existe = False\n",
    "                for turma in self.Turmas:\n",
    "                    if(turmaNome == turma.nome):\n",
    "                        existe = True\n",
    "                        turmaId = turma.idTurma\n",
    "                        break\n",
    "                if(not existe):\n",
    "                    turma = Turma(turmaNome)\n",
    "                    turmaId = turma.idTurma\n",
    "                    self.Turmas.append(turma)\n",
    "            else:\n",
    "                self.Turmas.append(Turma(turmaNome))\n",
    "\n",
    "            professorId = 0\n",
    "            if(len(self.Professores) != 0):\n",
    "                existe = False\n",
    "                for professor in self.Professores:\n",
    "                    if(professorNome == professor.nome):\n",
    "                        existe = True\n",
    "                        professorId = professor.idProfessor\n",
    "                        break\n",
    "                if(not existe):\n",
    "                    professor = Professor(professorNome)\n",
    "                    professorId = professor.idProfessor\n",
    "                    self.Professores.append(professor)\n",
    "            else:\n",
    "                self.Professores.append(Professor(professorNome))\n",
    "            for i in range(int(qtd)):\n",
    "                mtp = MTP(matId, turmaId, professorId)\n",
    "                self.Vertices.append(mtp)\n",
    "                self.MTPs.append(mtp.idVertice)\n",
    "\n",
    "    # Abre a planilha 1, Configurações\n",
    "\n",
    "    ws = wb.sheet_by_index(1)\n",
    "    for i in range(ws.nrows):\n",
    "        if i == 0:\n",
    "            continue\n",
    "        else:\n",
    "            self.Configuracoes.append(ws.cell(i, 0).value)\n",
    "\n",
    "    # Abre a planilha 2, Restrição\n",
    "\n",
    "    ws = wb.sheet_by_index(2)\n",
    "    for i in range(ws.nrows):\n",
    "        if i == 0:\n",
    "            continue\n",
    "        else:\n",
    "            professor = ws.cell(i, 0).value\n",
    "            for p in self.Professores:\n",
    "                if(p.nome == professor):\n",
    "                    v = Vertice()\n",
    "                    v.horario.cor =  str(getDia(ws.cell(i, 2).value)) + \"/\" +  str(getHorario(ws.cell(i, 1).value, self.Configuracoes))\n",
    "                    self.Vertices.append(v)\n",
    "                    p.restricao.append(v.idVertice)\n",
    "                    break\n",
    "\n",
    "    # Abre a planilha 3, Restrições_Turma\n",
    "\n",
    "    ws = wb.sheet_by_index(3)\n",
    "    for i in range(ws.nrows):\n",
    "        if i == 0:\n",
    "            continue\n",
    "        else:\n",
    "            turma = str(ws.cell(i, 0).value)\n",
    "            for t in self.Turmas:\n",
    "                if(t.nome == turma):\n",
    "                    v = Vertice()\n",
    "                    v.horario.cor =  str(getDia(ws.cell(i, 2).value)) + \"/\" +  str(getHorario(ws.cell(i, 1).value, self.Configuracoes))\n",
    "                    self.Vertices.append(v)\n",
    "                    t.restricao.append(v.idVertice)\n",
    "                    break\n",
    "\n",
    "    # Abre a planilha 4, Preferências\n",
    "\n",
    "    ws = wb.sheet_by_index(4)\n",
    "    for i in range(ws.nrows):\n",
    "        if i == 0:\n",
    "            continue\n",
    "        else:\n",
    "            professor = ws.cell(i, 0).value\n",
    "            for p in self.Professores:\n",
    "                if(p.nome == professor):\n",
    "                    h = Horario(getDia(ws.cell(i, 2).value), getHorario(ws.cell(i, 1).value, self.Configuracoes))\n",
    "                    p.preferencia.append(h)\n",
    "                    self.numPrefs += 1\n",
    "                    break"
   ]
  },
  {
   "cell_type": "markdown",
   "metadata": {},
   "source": [
    "Dado um vértice qualquer e uma cor, essa função tenta alocar essa cor ao vértice\n",
    "Em caso positivo, a cor é definida e o retorno é True, em caso Negativo o retorno e False\n"
   ]
  },
  {
   "cell_type": "code",
   "execution_count": null,
   "metadata": {},
   "outputs": [],
   "source": [
    "def recebeCor(self, vertice, cor):\n",
    "        if(cor != \"-1/-1\" and cor != \"-10/-10\"):\n",
    "            for a in vertice.adjacencia:\n",
    "                if(self.Vertices[a].horario.cor == cor):\n",
    "                    return False\n",
    "        vertice.horario.cor = cor\n",
    "        return True"
   ]
  },
  {
   "cell_type": "code",
   "execution_count": 3,
   "metadata": {
    "scrolled": false
   },
   "outputs": [
    {
     "name": "stdout",
     "output_type": "stream",
     "text": [
      "Escola A\n"
     ]
    },
    {
     "ename": "AttributeError",
     "evalue": "'Escola' object has no attribute 'leDoArquivo'",
     "output_type": "error",
     "traceback": [
      "\u001b[1;31m---------------------------------------------------------------------------\u001b[0m",
      "\u001b[1;31mAttributeError\u001b[0m                            Traceback (most recent call last)",
      "\u001b[1;32m<ipython-input-3-4ef51dd216b9>\u001b[0m in \u001b[0;36m<module>\u001b[1;34m\u001b[0m\n\u001b[0;32m      1\u001b[0m \u001b[0mprint\u001b[0m\u001b[1;33m(\u001b[0m\u001b[1;34m\"Escola A\"\u001b[0m\u001b[1;33m)\u001b[0m\u001b[1;33m\u001b[0m\u001b[1;33m\u001b[0m\u001b[0m\n\u001b[1;32m----> 2\u001b[1;33m \u001b[0ma\u001b[0m \u001b[1;33m=\u001b[0m \u001b[0mEscola\u001b[0m\u001b[1;33m(\u001b[0m\u001b[1;34m\"Escola_A.xlsx\"\u001b[0m\u001b[1;33m)\u001b[0m\u001b[1;33m\u001b[0m\u001b[1;33m\u001b[0m\u001b[0m\n\u001b[0m\u001b[0;32m      3\u001b[0m \u001b[0mprint\u001b[0m\u001b[1;33m(\u001b[0m\u001b[1;34m\"Escola B\"\u001b[0m\u001b[1;33m)\u001b[0m\u001b[1;33m\u001b[0m\u001b[1;33m\u001b[0m\u001b[0m\n\u001b[0;32m      4\u001b[0m \u001b[0mb\u001b[0m \u001b[1;33m=\u001b[0m \u001b[0mEscola\u001b[0m\u001b[1;33m(\u001b[0m\u001b[1;34m\"Escola_B.xlsx\"\u001b[0m\u001b[1;33m)\u001b[0m\u001b[1;33m\u001b[0m\u001b[1;33m\u001b[0m\u001b[0m\n\u001b[0;32m      5\u001b[0m \u001b[0mprint\u001b[0m\u001b[1;33m(\u001b[0m\u001b[1;34m\"Escola C\"\u001b[0m\u001b[1;33m)\u001b[0m\u001b[1;33m\u001b[0m\u001b[1;33m\u001b[0m\u001b[0m\n",
      "\u001b[1;32m<ipython-input-2-09a5612e59cf>\u001b[0m in \u001b[0;36m__init__\u001b[1;34m(self, escola)\u001b[0m\n\u001b[0;32m     11\u001b[0m         \u001b[0mself\u001b[0m\u001b[1;33m.\u001b[0m\u001b[0mnumPrefs\u001b[0m \u001b[1;33m=\u001b[0m \u001b[1;36m0\u001b[0m                       \u001b[1;31m#Variável que controla a quantidade total de preferências de professores\u001b[0m\u001b[1;33m\u001b[0m\u001b[1;33m\u001b[0m\u001b[0m\n\u001b[0;32m     12\u001b[0m         \u001b[0mself\u001b[0m\u001b[1;33m.\u001b[0m\u001b[0mnumPrefAtendidas\u001b[0m \u001b[1;33m=\u001b[0m \u001b[1;36m0\u001b[0m       \u001b[1;31m#Variável que controla a quantidade total de preferências atendidas\u001b[0m\u001b[1;33m\u001b[0m\u001b[1;33m\u001b[0m\u001b[0m\n\u001b[1;32m---> 13\u001b[1;33m         \u001b[0mself\u001b[0m\u001b[1;33m.\u001b[0m\u001b[0mleDoArquivo\u001b[0m\u001b[1;33m(\u001b[0m\u001b[0mescola\u001b[0m\u001b[1;33m)\u001b[0m\u001b[1;33m\u001b[0m\u001b[1;33m\u001b[0m\u001b[0m\n\u001b[0m\u001b[0;32m     14\u001b[0m         \u001b[0mself\u001b[0m\u001b[1;33m.\u001b[0m\u001b[0mcriaListaAdj\u001b[0m\u001b[1;33m(\u001b[0m\u001b[1;33m)\u001b[0m\u001b[1;33m\u001b[0m\u001b[1;33m\u001b[0m\u001b[0m\n\u001b[0;32m     15\u001b[0m         \u001b[0mself\u001b[0m\u001b[1;33m.\u001b[0m\u001b[0maddRestricao\u001b[0m\u001b[1;33m(\u001b[0m\u001b[1;33m)\u001b[0m\u001b[1;33m\u001b[0m\u001b[1;33m\u001b[0m\u001b[0m\n",
      "\u001b[1;31mAttributeError\u001b[0m: 'Escola' object has no attribute 'leDoArquivo'"
     ]
    }
   ],
   "source": [
    "print(\"Escola A\")\n",
    "a = Escola(\"Escola_A.xlsx\")\n",
    "print(\"Escola B\")\n",
    "b = Escola(\"Escola_B.xlsx\")\n",
    "print(\"Escola C\")\n",
    "c = Escola(\"Escola_C.xlsx\")\n",
    "print(\"Escola D\")\n",
    "d = Escola(\"Escola_D.xlsx\")"
   ]
  },
  {
   "cell_type": "code",
   "execution_count": null,
   "metadata": {},
   "outputs": [],
   "source": []
  }
 ],
 "metadata": {
  "kernelspec": {
   "display_name": "Python 3",
   "language": "python",
   "name": "python3"
  },
  "language_info": {
   "codemirror_mode": {
    "name": "ipython",
    "version": 3
   },
   "file_extension": ".py",
   "mimetype": "text/x-python",
   "name": "python",
   "nbconvert_exporter": "python",
   "pygments_lexer": "ipython3",
   "version": "3.7.4"
  }
 },
 "nbformat": 4,
 "nbformat_minor": 2
}
